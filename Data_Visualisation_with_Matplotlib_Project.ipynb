{
  "nbformat": 4,
  "nbformat_minor": 0,
  "metadata": {
    "colab": {
      "name": "Data Visualisation with Matplotlib Project",
      "provenance": [],
      "collapsed_sections": [
        "kLG2VTrnTvYL",
        "XecOwPNorl2W",
        "J4wfHZwQrs-t",
        "a9BPYqunry97",
        "7KMRBJ7zr9HD",
        "zSGyg6kWsBUl",
        "iUNbvIvnT7ep",
        "ckfufNrcUHeH",
        "FlBMxEDBUc9B",
        "vTbdjSrhVIiT",
        "Nh5mcts5IK8U",
        "0kGoZb21A5WH",
        "cpmGSOOqIMrt",
        "noZz5YRQXKzi",
        "xrmHVMVsVS--",
        "HPQviDmNtta8",
        "qjFHK1CKty7o",
        "HSsicSdvt4Zs"
      ],
      "include_colab_link": true
    },
    "kernelspec": {
      "name": "python3",
      "display_name": "Python 3"
    },
    "language_info": {
      "name": "python"
    }
  },
  "cells": [
    {
      "cell_type": "markdown",
      "metadata": {
        "id": "view-in-github",
        "colab_type": "text"
      },
      "source": [
        "<a href=\"https://colab.research.google.com/github/CoolerKula/Data-Visualisation-with-Matplotlib---Independent-Project/blob/main/Data_Visualisation_with_Matplotlib_Project.ipynb\" target=\"_parent\"><img src=\"https://colab.research.google.com/assets/colab-badge.svg\" alt=\"Open In Colab\"/></a>"
      ]
    },
    {
      "cell_type": "markdown",
      "metadata": {
        "id": "gtegFEJ83DN2"
      },
      "source": [
        "# AfterWork Data Science: Data Visualisation with Matplotlib"
      ]
    },
    {
      "cell_type": "markdown",
      "metadata": {
        "id": "kLG2VTrnTvYL"
      },
      "source": [
        "## 1. Defining the Question"
      ]
    },
    {
      "cell_type": "markdown",
      "metadata": {
        "id": "XecOwPNorl2W"
      },
      "source": [
        "### a) Specifying the Data Analysis Question"
      ]
    },
    {
      "cell_type": "markdown",
      "metadata": {
        "id": "pZykmRrbGd13"
      },
      "source": [
        "Specify the reasearch question that you'll be answering."
      ]
    },
    {
      "cell_type": "markdown",
      "metadata": {
        "id": "ym7-i7auXZPg"
      },
      "source": [
        "> i.e. Which was the most improved country year 2017 - 2018 as per the GDP ranking?"
      ]
    },
    {
      "cell_type": "markdown",
      "metadata": {
        "id": "99QQ-zcuTcHw"
      },
      "source": [
        "● Do movies with a higher budget end up being popular?\n",
        "\n",
        "● Does the length of the movie affect the vote count and popularity?\n",
        "\n",
        "● Does higher popularity mean higher profits?\n",
        "\n",
        "● What features are associated with the top 10 revenue movies?\n",
        "\n",
        "● Which genres are most popular from year to year?"
      ]
    },
    {
      "cell_type": "markdown",
      "metadata": {
        "id": "J4wfHZwQrs-t"
      },
      "source": [
        "### b) Defining the Metric for Success"
      ]
    },
    {
      "cell_type": "markdown",
      "metadata": {
        "id": "IuQcoaLFGjkH"
      },
      "source": [
        "How will you know that your solution will have satisfied your research question?"
      ]
    },
    {
      "cell_type": "markdown",
      "metadata": {
        "id": "YWdHYEHhVoNy"
      },
      "source": [
        "● By determining if movies with a higher budget end up being popular?\n",
        "\n",
        "● By determining if the length of the movie affects the vote count and popularity?\n",
        "\n",
        "● By determining if higher popularity translates to higher profits?\n",
        "\n",
        "● By determining what features are associated with the top 10 revenue movies?\n",
        "\n",
        "● By determining which genres are most popular from year to year?"
      ]
    },
    {
      "cell_type": "markdown",
      "metadata": {
        "id": "a9BPYqunry97"
      },
      "source": [
        "### c) Understanding the context "
      ]
    },
    {
      "cell_type": "markdown",
      "metadata": {
        "id": "2jeqV9VPG1tg"
      },
      "source": [
        "Provide some background information...."
      ]
    },
    {
      "cell_type": "markdown",
      "metadata": {
        "id": "S4sezcHFWweA"
      },
      "source": [
        "Mima is a startup film company that aims to enter the film industry.\n",
        "As a data scientist consultant working for the startup, you're required to perform an\n",
        "analysis and provide recommendations on the kinds of movies that the startup should\n",
        "create in order to have a profitable business."
      ]
    },
    {
      "cell_type": "markdown",
      "metadata": {
        "id": "7KMRBJ7zr9HD"
      },
      "source": [
        "### d) Recording the Experimental Design"
      ]
    },
    {
      "cell_type": "markdown",
      "metadata": {
        "id": "YG0dB0_PG5_i"
      },
      "source": [
        "Describe the steps/approach that you will use to answer the given question."
      ]
    },
    {
      "cell_type": "markdown",
      "metadata": {
        "id": "AuY8L-7bcpVw"
      },
      "source": [
        "1. Clean data\n",
        "2. Analyse and sort data\n",
        "3. Visualize data"
      ]
    },
    {
      "cell_type": "markdown",
      "metadata": {
        "id": "zSGyg6kWsBUl"
      },
      "source": [
        "### e) Data Relevance"
      ]
    },
    {
      "cell_type": "markdown",
      "metadata": {
        "id": "UogUWzkTHJ9D"
      },
      "source": [
        "How relevant was the provided data?"
      ]
    },
    {
      "cell_type": "markdown",
      "metadata": {
        "id": "iUNbvIvnT7ep"
      },
      "source": [
        "## 2. Reading the Data"
      ]
    },
    {
      "cell_type": "code",
      "metadata": {
        "id": "juxif2Sx8Z5_"
      },
      "source": [
        "# Loading libraries\n",
        "# ---\n",
        "# \n",
        "import pandas as pd\n",
        "import numpy as np\n",
        "import matplotlib.pyplot as plt    "
      ],
      "execution_count": null,
      "outputs": []
    },
    {
      "cell_type": "code",
      "metadata": {
        "id": "XJn2KjW-WMlG",
        "colab": {
          "base_uri": "https://localhost:8080/"
        },
        "outputId": "40d38018-c49c-408a-b336-bdafef79b2bc"
      },
      "source": [
        "# Loading the dataset\n",
        "# --- \n",
        "# Dataset url = http://bit.ly/MoviesDS\n",
        "# --- \n",
        "# \n",
        "df = pd.read_csv('http://bit.ly/MoviesDS')\n",
        "df.head()"
      ],
      "execution_count": null,
      "outputs": [
        {
          "output_type": "execute_result",
          "data": {
            "text/html": [
              "<div>\n",
              "<style scoped>\n",
              "    .dataframe tbody tr th:only-of-type {\n",
              "        vertical-align: middle;\n",
              "    }\n",
              "\n",
              "    .dataframe tbody tr th {\n",
              "        vertical-align: top;\n",
              "    }\n",
              "\n",
              "    .dataframe thead th {\n",
              "        text-align: right;\n",
              "    }\n",
              "</style>\n",
              "<table border=\"1\" class=\"dataframe\">\n",
              "  <thead>\n",
              "    <tr style=\"text-align: right;\">\n",
              "      <th></th>\n",
              "      <th>id</th>\n",
              "      <th>imdb_id</th>\n",
              "      <th>popularity</th>\n",
              "      <th>budget</th>\n",
              "      <th>revenue</th>\n",
              "      <th>original_title</th>\n",
              "      <th>cast</th>\n",
              "      <th>homepage</th>\n",
              "      <th>director</th>\n",
              "      <th>tagline</th>\n",
              "      <th>keywords</th>\n",
              "      <th>overview</th>\n",
              "      <th>runtime</th>\n",
              "      <th>genres</th>\n",
              "      <th>production_companies</th>\n",
              "      <th>release_date</th>\n",
              "      <th>vote_count</th>\n",
              "      <th>vote_average</th>\n",
              "      <th>release_year</th>\n",
              "      <th>budget_adj</th>\n",
              "      <th>revenue_adj</th>\n",
              "    </tr>\n",
              "  </thead>\n",
              "  <tbody>\n",
              "    <tr>\n",
              "      <th>0</th>\n",
              "      <td>135397</td>\n",
              "      <td>tt0369610</td>\n",
              "      <td>32.985763</td>\n",
              "      <td>150000000</td>\n",
              "      <td>1513528810</td>\n",
              "      <td>Jurassic World</td>\n",
              "      <td>Chris Pratt|Bryce Dallas Howard|Irrfan Khan|Vi...</td>\n",
              "      <td>http://www.jurassicworld.com/</td>\n",
              "      <td>Colin Trevorrow</td>\n",
              "      <td>The park is open.</td>\n",
              "      <td>monster|dna|tyrannosaurus rex|velociraptor|island</td>\n",
              "      <td>Twenty-two years after the events of Jurassic ...</td>\n",
              "      <td>124</td>\n",
              "      <td>Action|Adventure|Science Fiction|Thriller</td>\n",
              "      <td>Universal Studios|Amblin Entertainment|Legenda...</td>\n",
              "      <td>6/9/15</td>\n",
              "      <td>5562</td>\n",
              "      <td>6.5</td>\n",
              "      <td>2015</td>\n",
              "      <td>1.379999e+08</td>\n",
              "      <td>1.392446e+09</td>\n",
              "    </tr>\n",
              "    <tr>\n",
              "      <th>1</th>\n",
              "      <td>76341</td>\n",
              "      <td>tt1392190</td>\n",
              "      <td>28.419936</td>\n",
              "      <td>150000000</td>\n",
              "      <td>378436354</td>\n",
              "      <td>Mad Max: Fury Road</td>\n",
              "      <td>Tom Hardy|Charlize Theron|Hugh Keays-Byrne|Nic...</td>\n",
              "      <td>http://www.madmaxmovie.com/</td>\n",
              "      <td>George Miller</td>\n",
              "      <td>What a Lovely Day.</td>\n",
              "      <td>future|chase|post-apocalyptic|dystopia|australia</td>\n",
              "      <td>An apocalyptic story set in the furthest reach...</td>\n",
              "      <td>120</td>\n",
              "      <td>Action|Adventure|Science Fiction|Thriller</td>\n",
              "      <td>Village Roadshow Pictures|Kennedy Miller Produ...</td>\n",
              "      <td>5/13/15</td>\n",
              "      <td>6185</td>\n",
              "      <td>7.1</td>\n",
              "      <td>2015</td>\n",
              "      <td>1.379999e+08</td>\n",
              "      <td>3.481613e+08</td>\n",
              "    </tr>\n",
              "    <tr>\n",
              "      <th>2</th>\n",
              "      <td>262500</td>\n",
              "      <td>tt2908446</td>\n",
              "      <td>13.112507</td>\n",
              "      <td>110000000</td>\n",
              "      <td>295238201</td>\n",
              "      <td>Insurgent</td>\n",
              "      <td>Shailene Woodley|Theo James|Kate Winslet|Ansel...</td>\n",
              "      <td>http://www.thedivergentseries.movie/#insurgent</td>\n",
              "      <td>Robert Schwentke</td>\n",
              "      <td>One Choice Can Destroy You</td>\n",
              "      <td>based on novel|revolution|dystopia|sequel|dyst...</td>\n",
              "      <td>Beatrice Prior must confront her inner demons ...</td>\n",
              "      <td>119</td>\n",
              "      <td>Adventure|Science Fiction|Thriller</td>\n",
              "      <td>Summit Entertainment|Mandeville Films|Red Wago...</td>\n",
              "      <td>3/18/15</td>\n",
              "      <td>2480</td>\n",
              "      <td>6.3</td>\n",
              "      <td>2015</td>\n",
              "      <td>1.012000e+08</td>\n",
              "      <td>2.716190e+08</td>\n",
              "    </tr>\n",
              "    <tr>\n",
              "      <th>3</th>\n",
              "      <td>140607</td>\n",
              "      <td>tt2488496</td>\n",
              "      <td>11.173104</td>\n",
              "      <td>200000000</td>\n",
              "      <td>2068178225</td>\n",
              "      <td>Star Wars: The Force Awakens</td>\n",
              "      <td>Harrison Ford|Mark Hamill|Carrie Fisher|Adam D...</td>\n",
              "      <td>http://www.starwars.com/films/star-wars-episod...</td>\n",
              "      <td>J.J. Abrams</td>\n",
              "      <td>Every generation has a story.</td>\n",
              "      <td>android|spaceship|jedi|space opera|3d</td>\n",
              "      <td>Thirty years after defeating the Galactic Empi...</td>\n",
              "      <td>136</td>\n",
              "      <td>Action|Adventure|Science Fiction|Fantasy</td>\n",
              "      <td>Lucasfilm|Truenorth Productions|Bad Robot</td>\n",
              "      <td>12/15/15</td>\n",
              "      <td>5292</td>\n",
              "      <td>7.5</td>\n",
              "      <td>2015</td>\n",
              "      <td>1.839999e+08</td>\n",
              "      <td>1.902723e+09</td>\n",
              "    </tr>\n",
              "    <tr>\n",
              "      <th>4</th>\n",
              "      <td>168259</td>\n",
              "      <td>tt2820852</td>\n",
              "      <td>9.335014</td>\n",
              "      <td>190000000</td>\n",
              "      <td>1506249360</td>\n",
              "      <td>Furious 7</td>\n",
              "      <td>Vin Diesel|Paul Walker|Jason Statham|Michelle ...</td>\n",
              "      <td>http://www.furious7.com/</td>\n",
              "      <td>James Wan</td>\n",
              "      <td>Vengeance Hits Home</td>\n",
              "      <td>car race|speed|revenge|suspense|car</td>\n",
              "      <td>Deckard Shaw seeks revenge against Dominic Tor...</td>\n",
              "      <td>137</td>\n",
              "      <td>Action|Crime|Thriller</td>\n",
              "      <td>Universal Pictures|Original Film|Media Rights ...</td>\n",
              "      <td>4/1/15</td>\n",
              "      <td>2947</td>\n",
              "      <td>7.3</td>\n",
              "      <td>2015</td>\n",
              "      <td>1.747999e+08</td>\n",
              "      <td>1.385749e+09</td>\n",
              "    </tr>\n",
              "  </tbody>\n",
              "</table>\n",
              "</div>"
            ],
            "text/plain": [
              "       id    imdb_id  popularity  ...  release_year    budget_adj   revenue_adj\n",
              "0  135397  tt0369610   32.985763  ...          2015  1.379999e+08  1.392446e+09\n",
              "1   76341  tt1392190   28.419936  ...          2015  1.379999e+08  3.481613e+08\n",
              "2  262500  tt2908446   13.112507  ...          2015  1.012000e+08  2.716190e+08\n",
              "3  140607  tt2488496   11.173104  ...          2015  1.839999e+08  1.902723e+09\n",
              "4  168259  tt2820852    9.335014  ...          2015  1.747999e+08  1.385749e+09\n",
              "\n",
              "[5 rows x 21 columns]"
            ]
          },
          "metadata": {},
          "execution_count": 2
        }
      ]
    },
    {
      "cell_type": "code",
      "metadata": {
        "id": "A95RQzFm8quY",
        "colab": {
          "base_uri": "https://localhost:8080/"
        },
        "outputId": "5b841cb1-211e-4617-f48c-669acb7f074a"
      },
      "source": [
        "# Determining the size \n",
        "# ---\n",
        "#\n",
        "df.shape"
      ],
      "execution_count": null,
      "outputs": [
        {
          "output_type": "execute_result",
          "data": {
            "text/plain": [
              "(10866, 21)"
            ]
          },
          "metadata": {},
          "execution_count": 3
        }
      ]
    },
    {
      "cell_type": "code",
      "metadata": {
        "id": "XDHj_5xu8w3a",
        "colab": {
          "base_uri": "https://localhost:8080/"
        },
        "outputId": "ca33ef9b-fe97-4857-f0fe-63ea5069a878"
      },
      "source": [
        "# Checking the datatypes\n",
        "# ---\n",
        "# \n",
        "df.dtypes"
      ],
      "execution_count": null,
      "outputs": [
        {
          "output_type": "execute_result",
          "data": {
            "text/plain": [
              "id                        int64\n",
              "imdb_id                  object\n",
              "popularity              float64\n",
              "budget                    int64\n",
              "revenue                   int64\n",
              "original_title           object\n",
              "cast                     object\n",
              "homepage                 object\n",
              "director                 object\n",
              "tagline                  object\n",
              "keywords                 object\n",
              "overview                 object\n",
              "runtime                   int64\n",
              "genres                   object\n",
              "production_companies     object\n",
              "release_date             object\n",
              "vote_count                int64\n",
              "vote_average            float64\n",
              "release_year              int64\n",
              "budget_adj              float64\n",
              "revenue_adj             float64\n",
              "dtype: object"
            ]
          },
          "metadata": {},
          "execution_count": 4
        }
      ]
    },
    {
      "cell_type": "code",
      "metadata": {
        "id": "VxQQxSSq88II",
        "colab": {
          "base_uri": "https://localhost:8080/"
        },
        "outputId": "e6d5f62d-adf3-433a-b77e-b97494dd91a3"
      },
      "source": [
        "# Statistical summary\n",
        "# ---\n",
        "#\n",
        "df.describe()"
      ],
      "execution_count": null,
      "outputs": [
        {
          "output_type": "execute_result",
          "data": {
            "text/html": [
              "<div>\n",
              "<style scoped>\n",
              "    .dataframe tbody tr th:only-of-type {\n",
              "        vertical-align: middle;\n",
              "    }\n",
              "\n",
              "    .dataframe tbody tr th {\n",
              "        vertical-align: top;\n",
              "    }\n",
              "\n",
              "    .dataframe thead th {\n",
              "        text-align: right;\n",
              "    }\n",
              "</style>\n",
              "<table border=\"1\" class=\"dataframe\">\n",
              "  <thead>\n",
              "    <tr style=\"text-align: right;\">\n",
              "      <th></th>\n",
              "      <th>id</th>\n",
              "      <th>popularity</th>\n",
              "      <th>budget</th>\n",
              "      <th>revenue</th>\n",
              "      <th>runtime</th>\n",
              "      <th>vote_count</th>\n",
              "      <th>vote_average</th>\n",
              "      <th>release_year</th>\n",
              "      <th>budget_adj</th>\n",
              "      <th>revenue_adj</th>\n",
              "    </tr>\n",
              "  </thead>\n",
              "  <tbody>\n",
              "    <tr>\n",
              "      <th>count</th>\n",
              "      <td>10866.000000</td>\n",
              "      <td>10866.000000</td>\n",
              "      <td>1.086600e+04</td>\n",
              "      <td>1.086600e+04</td>\n",
              "      <td>10866.000000</td>\n",
              "      <td>10866.000000</td>\n",
              "      <td>10866.000000</td>\n",
              "      <td>10866.000000</td>\n",
              "      <td>1.086600e+04</td>\n",
              "      <td>1.086600e+04</td>\n",
              "    </tr>\n",
              "    <tr>\n",
              "      <th>mean</th>\n",
              "      <td>66064.177434</td>\n",
              "      <td>0.646441</td>\n",
              "      <td>1.462570e+07</td>\n",
              "      <td>3.982332e+07</td>\n",
              "      <td>102.070863</td>\n",
              "      <td>217.389748</td>\n",
              "      <td>5.974922</td>\n",
              "      <td>2001.322658</td>\n",
              "      <td>1.755104e+07</td>\n",
              "      <td>5.136436e+07</td>\n",
              "    </tr>\n",
              "    <tr>\n",
              "      <th>std</th>\n",
              "      <td>92130.136561</td>\n",
              "      <td>1.000185</td>\n",
              "      <td>3.091321e+07</td>\n",
              "      <td>1.170035e+08</td>\n",
              "      <td>31.381405</td>\n",
              "      <td>575.619058</td>\n",
              "      <td>0.935142</td>\n",
              "      <td>12.812941</td>\n",
              "      <td>3.430616e+07</td>\n",
              "      <td>1.446325e+08</td>\n",
              "    </tr>\n",
              "    <tr>\n",
              "      <th>min</th>\n",
              "      <td>5.000000</td>\n",
              "      <td>0.000065</td>\n",
              "      <td>0.000000e+00</td>\n",
              "      <td>0.000000e+00</td>\n",
              "      <td>0.000000</td>\n",
              "      <td>10.000000</td>\n",
              "      <td>1.500000</td>\n",
              "      <td>1960.000000</td>\n",
              "      <td>0.000000e+00</td>\n",
              "      <td>0.000000e+00</td>\n",
              "    </tr>\n",
              "    <tr>\n",
              "      <th>25%</th>\n",
              "      <td>10596.250000</td>\n",
              "      <td>0.207583</td>\n",
              "      <td>0.000000e+00</td>\n",
              "      <td>0.000000e+00</td>\n",
              "      <td>90.000000</td>\n",
              "      <td>17.000000</td>\n",
              "      <td>5.400000</td>\n",
              "      <td>1995.000000</td>\n",
              "      <td>0.000000e+00</td>\n",
              "      <td>0.000000e+00</td>\n",
              "    </tr>\n",
              "    <tr>\n",
              "      <th>50%</th>\n",
              "      <td>20669.000000</td>\n",
              "      <td>0.383856</td>\n",
              "      <td>0.000000e+00</td>\n",
              "      <td>0.000000e+00</td>\n",
              "      <td>99.000000</td>\n",
              "      <td>38.000000</td>\n",
              "      <td>6.000000</td>\n",
              "      <td>2006.000000</td>\n",
              "      <td>0.000000e+00</td>\n",
              "      <td>0.000000e+00</td>\n",
              "    </tr>\n",
              "    <tr>\n",
              "      <th>75%</th>\n",
              "      <td>75610.000000</td>\n",
              "      <td>0.713817</td>\n",
              "      <td>1.500000e+07</td>\n",
              "      <td>2.400000e+07</td>\n",
              "      <td>111.000000</td>\n",
              "      <td>145.750000</td>\n",
              "      <td>6.600000</td>\n",
              "      <td>2011.000000</td>\n",
              "      <td>2.085325e+07</td>\n",
              "      <td>3.369710e+07</td>\n",
              "    </tr>\n",
              "    <tr>\n",
              "      <th>max</th>\n",
              "      <td>417859.000000</td>\n",
              "      <td>32.985763</td>\n",
              "      <td>4.250000e+08</td>\n",
              "      <td>2.781506e+09</td>\n",
              "      <td>900.000000</td>\n",
              "      <td>9767.000000</td>\n",
              "      <td>9.200000</td>\n",
              "      <td>2015.000000</td>\n",
              "      <td>4.250000e+08</td>\n",
              "      <td>2.827124e+09</td>\n",
              "    </tr>\n",
              "  </tbody>\n",
              "</table>\n",
              "</div>"
            ],
            "text/plain": [
              "                  id    popularity  ...    budget_adj   revenue_adj\n",
              "count   10866.000000  10866.000000  ...  1.086600e+04  1.086600e+04\n",
              "mean    66064.177434      0.646441  ...  1.755104e+07  5.136436e+07\n",
              "std     92130.136561      1.000185  ...  3.430616e+07  1.446325e+08\n",
              "min         5.000000      0.000065  ...  0.000000e+00  0.000000e+00\n",
              "25%     10596.250000      0.207583  ...  0.000000e+00  0.000000e+00\n",
              "50%     20669.000000      0.383856  ...  0.000000e+00  0.000000e+00\n",
              "75%     75610.000000      0.713817  ...  2.085325e+07  3.369710e+07\n",
              "max    417859.000000     32.985763  ...  4.250000e+08  2.827124e+09\n",
              "\n",
              "[8 rows x 10 columns]"
            ]
          },
          "metadata": {},
          "execution_count": 5
        }
      ]
    },
    {
      "cell_type": "code",
      "metadata": {
        "id": "IHoq4Fd79DSy",
        "colab": {
          "base_uri": "https://localhost:8080/"
        },
        "outputId": "d98ddf3d-f97e-49bb-8e0e-5b03e9c912fe"
      },
      "source": [
        "# Checking for missing values \n",
        "# ---\n",
        "# \n",
        "df.isnull().sum()"
      ],
      "execution_count": null,
      "outputs": [
        {
          "output_type": "execute_result",
          "data": {
            "text/plain": [
              "id                         0\n",
              "imdb_id                   10\n",
              "popularity                 0\n",
              "budget                     0\n",
              "revenue                    0\n",
              "original_title             0\n",
              "cast                      76\n",
              "homepage                7930\n",
              "director                  44\n",
              "tagline                 2824\n",
              "keywords                1493\n",
              "overview                   4\n",
              "runtime                    0\n",
              "genres                    23\n",
              "production_companies    1030\n",
              "release_date               0\n",
              "vote_count                 0\n",
              "vote_average               0\n",
              "release_year               0\n",
              "budget_adj                 0\n",
              "revenue_adj                0\n",
              "dtype: int64"
            ]
          },
          "metadata": {},
          "execution_count": 6
        }
      ]
    },
    {
      "cell_type": "markdown",
      "metadata": {
        "id": "ckfufNrcUHeH"
      },
      "source": [
        "## 3. External Data Source Validation"
      ]
    },
    {
      "cell_type": "markdown",
      "metadata": {
        "id": "6L4sl_0WXlbg"
      },
      "source": [
        "You can make sure your data matches other credible information. This ensures that the measurements are roughly in line with what they should be and it serves as a check on what other things might be wrong in your dataset.\n",
        "\n",
        "External validation can often be as simple as checking your data against some other data i.e. country population your dataset with country population on world bank data.\n",
        "\n",
        "Replace the text found on this text cell with your external data source validation information."
      ]
    },
    {
      "cell_type": "markdown",
      "metadata": {
        "id": "FlBMxEDBUc9B"
      },
      "source": [
        "## 4. Data Preparation"
      ]
    },
    {
      "cell_type": "code",
      "metadata": {
        "id": "qEFxByRP3oMj"
      },
      "source": [
        "# Dropping irrelevant columns\n",
        "# ---\n",
        "#\n",
        "df.drop(['id','imdb_id', 'homepage', 'overview'], axis=1, inplace=True)"
      ],
      "execution_count": null,
      "outputs": []
    },
    {
      "cell_type": "code",
      "metadata": {
        "id": "DJLY7ugk9Wgs"
      },
      "source": [
        "# Handling missing data\n",
        "# ---\n",
        "# \n",
        "df['cast'].fillna('missing', inplace=True )\n",
        "df['director'].fillna('missing', inplace=True)\n",
        "df['tagline'].fillna('missing', inplace=True)\n",
        "df['keywords'].fillna('missing', inplace=True)\n",
        "df['genres'].fillna('missing', inplace=True)\n",
        "df['production_companies'].fillna('missing', inplace=True) \n",
        "df['budget'] = df['budget'].replace(0, np.NAN) "
      ],
      "execution_count": null,
      "outputs": []
    },
    {
      "cell_type": "code",
      "metadata": {
        "id": "W4U0DZbs9nhs",
        "colab": {
          "base_uri": "https://localhost:8080/"
        },
        "outputId": "cf1dcba6-de6b-420e-af51-fa43e8873498"
      },
      "source": [
        "# Previewing the outcome\n",
        "# ---\n",
        "# \n",
        "df.isnull().sum()"
      ],
      "execution_count": null,
      "outputs": [
        {
          "output_type": "execute_result",
          "data": {
            "text/plain": [
              "popularity                 0\n",
              "budget                  5696\n",
              "revenue                    0\n",
              "original_title             0\n",
              "cast                       0\n",
              "director                   0\n",
              "tagline                    0\n",
              "keywords                   0\n",
              "runtime                    0\n",
              "genres                     0\n",
              "production_companies       0\n",
              "release_date               0\n",
              "vote_count                 0\n",
              "vote_average               0\n",
              "release_year               0\n",
              "budget_adj                 0\n",
              "revenue_adj                0\n",
              "dtype: int64"
            ]
          },
          "metadata": {},
          "execution_count": 9
        }
      ]
    },
    {
      "cell_type": "code",
      "metadata": {
        "id": "uT_2DjEh9tNL",
        "colab": {
          "base_uri": "https://localhost:8080/"
        },
        "outputId": "900f6762-6051-43a7-d4a9-1f98a419334d"
      },
      "source": [
        "# Checking for duplicates \n",
        "# ---\n",
        "#\n",
        "df.duplicated().sum()"
      ],
      "execution_count": null,
      "outputs": [
        {
          "output_type": "execute_result",
          "data": {
            "text/plain": [
              "1"
            ]
          },
          "metadata": {},
          "execution_count": 10
        }
      ]
    },
    {
      "cell_type": "code",
      "metadata": {
        "id": "OidnIBWe93q0",
        "colab": {
          "base_uri": "https://localhost:8080/"
        },
        "outputId": "3d5de3a0-50c9-41d2-a961-184cc9817150"
      },
      "source": [
        "# Dropping the duplicates \n",
        "# ---\n",
        "#\n",
        "df.drop_duplicates(inplace = True) \n",
        "\n",
        "# Checking for duplicates for comfirmation\n",
        "# ---\n",
        "#\n",
        "df.duplicated().sum()"
      ],
      "execution_count": null,
      "outputs": [
        {
          "output_type": "execute_result",
          "data": {
            "text/plain": [
              "0"
            ]
          },
          "metadata": {},
          "execution_count": 11
        }
      ]
    },
    {
      "cell_type": "markdown",
      "metadata": {
        "id": "vTbdjSrhVIiT"
      },
      "source": [
        "\n",
        "## 5. Solution Implementation"
      ]
    },
    {
      "cell_type": "markdown",
      "metadata": {
        "id": "PdHyc8WYHlAG"
      },
      "source": [
        "Here we investigate the questions that would help craft our recommendations."
      ]
    },
    {
      "cell_type": "markdown",
      "metadata": {
        "id": "Nh5mcts5IK8U"
      },
      "source": [
        "### 5.a) Questions"
      ]
    },
    {
      "cell_type": "markdown",
      "metadata": {
        "id": "0kGoZb21A5WH"
      },
      "source": [
        "#### **Question 1**: Do movies with a higher budget end up being popular?"
      ]
    },
    {
      "cell_type": "code",
      "metadata": {
        "id": "CxaO1YNY3yQ5",
        "colab": {
          "base_uri": "https://localhost:8080/",
          "height": 294
        },
        "outputId": "829bbb83-fc83-475e-a5d7-dc5d85c0bdc4"
      },
      "source": [
        "# Question 1\n",
        "# ---\n",
        "# Do movies with a higher budget end up being popular?\n",
        "# ---\n",
        "#\n",
        "\n",
        "# Create a scatter plot to determine relationship between budget and the popularity\n",
        "budget = df['budget']\n",
        "popularity = df['popularity']\n",
        "\n",
        "# YOUR CODE GOES BELOW HERE\n",
        "plt.scatter(budget, popularity)\n",
        "plt.title('Scatterplot of budget and Popularity')\n",
        "plt.xlabel('budget')\n",
        "plt.ylabel('popularity')\n",
        "plt.show()"
      ],
      "execution_count": null,
      "outputs": [
        {
          "output_type": "display_data",
          "data": {
            "image/png": "[encoded data removed]",
            "text/plain": [
              "<Figure size 432x288 with 1 Axes>"
            ]
          },
          "metadata": {
            "needs_background": "light"
          }
        }
      ]
    },
    {
      "cell_type": "code",
      "metadata": {
        "id": "9dcXjLEX_yb7",
        "colab": {
          "base_uri": "https://localhost:8080/",
          "height": 307
        },
        "outputId": "f57f031a-3b61-4966-efbb-4943737a0dff"
      },
      "source": [
        "# Create a bar chart to compare low budget movies with high budget movies\n",
        "# ---\n",
        "# \n",
        "\n",
        "# create two groups (low and high budget movies) using the median\n",
        "m = df['budget'].median()\n",
        "low_budget =  df.query('budget < {}'.format(m))\n",
        "high_budget =  df.query('budget >= {}'.format(m))\n",
        "\n",
        "# check low budget and high budget mean values respecively \n",
        "mean_popularity_of_low_budget = low_budget['popularity'].mean()\n",
        "mean_popularity_of_high_budget = high_budget['popularity'].mean()\n",
        "\n",
        "# create a bar chart with the values we get above \n",
        "locations = [1,2]\n",
        "heights = [mean_popularity_of_low_budget , mean_popularity_of_high_budget]\n",
        "labels=['low','high']\n",
        "\n",
        "# YOUR CODE GOES BELOW HERE\n",
        "# Hint: use tick_label parameter\n",
        "plt.bar(labels, height = heights, color = 'yellow')\n",
        "plt.xticks(rotation = 45)\n",
        "plt.ylabel('popularity')\n",
        "plt.xlabel('budget')\n",
        "plt.title('low and high budget movies')\n",
        "plt.show()"
      ],
      "execution_count": null,
      "outputs": [
        {
          "output_type": "display_data",
          "data": {
            "image/png": "[encoded data removed]",
            "text/plain": [
              "<Figure size 432x288 with 1 Axes>"
            ]
          },
          "metadata": {
            "needs_background": "light"
          }
        }
      ]
    },
    {
      "cell_type": "code",
      "metadata": {
        "id": "Ei_rVVVcBCvz",
        "colab": {
          "base_uri": "https://localhost:8080/"
        },
        "outputId": "6736eada-8a51-409b-d161-0dc51ba12590"
      },
      "source": [
        "# Percentage difference\n",
        "increase_percentage = (mean_popularity_of_high_budget - mean_popularity_of_low_budget) / mean_popularity_of_high_budget * 100\n",
        "increase_percentage"
      ],
      "execution_count": null,
      "outputs": [
        {
          "output_type": "execute_result",
          "data": {
            "text/plain": [
              "55.50933772947093"
            ]
          },
          "metadata": {},
          "execution_count": 14
        }
      ]
    },
    {
      "cell_type": "markdown",
      "metadata": {
        "id": "EFhikHlJA9Of"
      },
      "source": [
        "**Question 2:** Does the length of the movie affect the vote count and popularity?"
      ]
    },
    {
      "cell_type": "code",
      "metadata": {
        "id": "zn1S3fwR3x4W",
        "colab": {
          "base_uri": "https://localhost:8080/",
          "height": 306
        },
        "outputId": "a52e8a4f-d0cb-4cac-8bd4-02f958b154ef"
      },
      "source": [
        "# Question 2\n",
        "# ---\n",
        "# Does the length of the movie affect the vote count and popularity?\n",
        "# ---\n",
        "# \n",
        "\n",
        "# Create 3 movie groups:  <60 min: short, 60 min <=  <= - 120 min: medium,  >120 min: long \n",
        "short =  df.query('runtime < {}'.format(100))\n",
        "medium =  df.query('runtime < {}'.format(200))\n",
        "longer = df.query('runtime > {}'.format(200))\n",
        "\n",
        "# Check mean popularity of different movie lengths \n",
        "mean_popularity_of_short = short['popularity'].mean()\n",
        "mean_popularity_of_medium = medium['popularity'].mean()\n",
        "mean_popularity_of_long = longer['popularity'].mean()\n",
        "\n",
        "# Create a bar chart of average popularity of different movie lengths\n",
        "locations = [1,2,3]\n",
        "heights = [mean_popularity_of_short, mean_popularity_of_medium, mean_popularity_of_long]\n",
        "labels=['low','medium','high']\n",
        "\n",
        "# YOUR CODE GOES BELOW HERE\n",
        "plt.bar(labels, height = heights , color = '#7FFF00')\n",
        "plt.xticks(rotation = 45)\n",
        "plt.ylabel('heights')\n",
        "plt.title('average popularity of different movie lengths')\n",
        "plt.show()\n"
      ],
      "execution_count": null,
      "outputs": [
        {
          "output_type": "display_data",
          "data": {
            "image/png": "[encoded data removed]",
            "text/plain": [
              "<Figure size 432x288 with 1 Axes>"
            ]
          },
          "metadata": {
            "needs_background": "light"
          }
        }
      ]
    },
    {
      "cell_type": "code",
      "metadata": {
        "id": "Fa5yec4RCKDX",
        "colab": {
          "base_uri": "https://localhost:8080/",
          "height": 294
        },
        "outputId": "ac844a73-680e-4642-ea32-7b6de8f2549e"
      },
      "source": [
        "# Create a scatterplot to determine the relation between runtime and popularity \n",
        "# ---\n",
        "# \n",
        "runtime = df['runtime']\n",
        "popularity = df['popularity'] \n",
        "\n",
        "# YOUR CODE GOES BELOW HERE\n",
        "plt.scatter(runtime ,popularity,  color = '#ADFF2F')\n",
        "plt.title('Scatterplot of runtime and Popularity')\n",
        "plt.xlabel('runtime')\n",
        "plt.ylabel('popularity')\n",
        "plt.show()"
      ],
      "execution_count": null,
      "outputs": [
        {
          "output_type": "display_data",
          "data": {
            "image/png": "[encoded data removed]",
            "text/plain": [
              "<Figure size 432x288 with 1 Axes>"
            ]
          },
          "metadata": {
            "needs_background": "light"
          }
        }
      ]
    },
    {
      "cell_type": "markdown",
      "metadata": {
        "id": "J53SQpacClgX"
      },
      "source": [
        "**Question 3:** Does higher popularity mean higher profits?"
      ]
    },
    {
      "cell_type": "code",
      "metadata": {
        "id": "1y8vT3he3x0s",
        "colab": {
          "base_uri": "https://localhost:8080/",
          "height": 294
        },
        "outputId": "7f45fea6-4866-4f26-dfde-fb9664f990c8"
      },
      "source": [
        "# Question 3\n",
        "# ---\n",
        "# Does higher popularity mean higher profits?\n",
        "# ---\n",
        "#\n",
        "\n",
        "# Getting the mean of popularity \n",
        "m_popularity = df['popularity'].median()\n",
        "lower_popularity =  df.query('popularity < {}'.format(m_popularity))\n",
        "higher_popularity =  df.query('popularity >= {}'.format(m_popularity))\n",
        "\n",
        "# Creating a new column called profit (profit = revenue - budget)\n",
        "df['profit'] = df['revenue'] - df['budget']\n",
        "\n",
        "# Calculating the average net profit for low_popularity and high_popularity\n",
        "mean_profit_of_low_popularity = lower_popularity['profit'].mean()\n",
        "mean_profit_of_high_popularity = higher_popularity['profit'].mean()\n",
        "\n",
        "# create a bar chart with the values we get above \n",
        "locations = [1,2]\n",
        "heights = [mean_profit_of_low_popularity, mean_profit_of_high_popularity]\n",
        "labels=['low','high']\n",
        "\n",
        "# YOUR CODE GOES BELOW HERE\n",
        "plt.bar(labels, height = heights , color = '#FFDEAD')\n",
        "plt.xticks(rotation = 45)\n",
        "plt.ylabel('heights')\n",
        "plt.title('average net profit for low_popularity and high_popularity')\n",
        "plt.show()"
      ],
      "execution_count": null,
      "outputs": [
        {
          "output_type": "display_data",
          "data": {
            "image/png": "[encoded data removed]",
            "text/plain": [
              "<Figure size 432x288 with 1 Axes>"
            ]
          },
          "metadata": {
            "needs_background": "light"
          }
        }
      ]
    },
    {
      "cell_type": "markdown",
      "metadata": {
        "id": "e6ePg_STDjDd"
      },
      "source": [
        "**Question 4:** What features are associated with the top 10 revenue movies?"
      ]
    },
    {
      "cell_type": "code",
      "metadata": {
        "id": "aXQbXFet3xts",
        "colab": {
          "base_uri": "https://localhost:8080/",
          "height": 925
        },
        "outputId": "4e5b338f-e6b8-44c7-c6cb-7e032994cc19"
      },
      "source": [
        "# Question 4\n",
        "# ---\n",
        "# What features are associated with the top 10 revenue movies?\n",
        "# ---\n",
        "#\n",
        "\n",
        "# YOUR CODE GOES BELOW HERE\n",
        "top10_revenue=df.sort_values(by=['revenue'], ascending=False)\n",
        "top10_revenue.head(10)\n",
        "\n"
      ],
      "execution_count": null,
      "outputs": [
        {
          "output_type": "execute_result",
          "data": {
            "text/html": [
              "<div>\n",
              "<style scoped>\n",
              "    .dataframe tbody tr th:only-of-type {\n",
              "        vertical-align: middle;\n",
              "    }\n",
              "\n",
              "    .dataframe tbody tr th {\n",
              "        vertical-align: top;\n",
              "    }\n",
              "\n",
              "    .dataframe thead th {\n",
              "        text-align: right;\n",
              "    }\n",
              "</style>\n",
              "<table border=\"1\" class=\"dataframe\">\n",
              "  <thead>\n",
              "    <tr style=\"text-align: right;\">\n",
              "      <th></th>\n",
              "      <th>popularity</th>\n",
              "      <th>budget</th>\n",
              "      <th>revenue</th>\n",
              "      <th>original_title</th>\n",
              "      <th>cast</th>\n",
              "      <th>director</th>\n",
              "      <th>tagline</th>\n",
              "      <th>keywords</th>\n",
              "      <th>runtime</th>\n",
              "      <th>genres</th>\n",
              "      <th>production_companies</th>\n",
              "      <th>release_date</th>\n",
              "      <th>vote_count</th>\n",
              "      <th>vote_average</th>\n",
              "      <th>release_year</th>\n",
              "      <th>budget_adj</th>\n",
              "      <th>revenue_adj</th>\n",
              "      <th>profit</th>\n",
              "    </tr>\n",
              "  </thead>\n",
              "  <tbody>\n",
              "    <tr>\n",
              "      <th>1386</th>\n",
              "      <td>9.432768</td>\n",
              "      <td>237000000.0</td>\n",
              "      <td>2781505847</td>\n",
              "      <td>Avatar</td>\n",
              "      <td>Sam Worthington|Zoe Saldana|Sigourney Weaver|S...</td>\n",
              "      <td>James Cameron</td>\n",
              "      <td>Enter the World of Pandora.</td>\n",
              "      <td>culture clash|future|space war|space colony|so...</td>\n",
              "      <td>162</td>\n",
              "      <td>Action|Adventure|Fantasy|Science Fiction</td>\n",
              "      <td>Ingenious Film Partners|Twentieth Century Fox ...</td>\n",
              "      <td>12/10/09</td>\n",
              "      <td>8458</td>\n",
              "      <td>7.1</td>\n",
              "      <td>2009</td>\n",
              "      <td>2.408869e+08</td>\n",
              "      <td>2.827124e+09</td>\n",
              "      <td>2.544506e+09</td>\n",
              "    </tr>\n",
              "    <tr>\n",
              "      <th>3</th>\n",
              "      <td>11.173104</td>\n",
              "      <td>200000000.0</td>\n",
              "      <td>2068178225</td>\n",
              "      <td>Star Wars: The Force Awakens</td>\n",
              "      <td>Harrison Ford|Mark Hamill|Carrie Fisher|Adam D...</td>\n",
              "      <td>J.J. Abrams</td>\n",
              "      <td>Every generation has a story.</td>\n",
              "      <td>android|spaceship|jedi|space opera|3d</td>\n",
              "      <td>136</td>\n",
              "      <td>Action|Adventure|Science Fiction|Fantasy</td>\n",
              "      <td>Lucasfilm|Truenorth Productions|Bad Robot</td>\n",
              "      <td>12/15/15</td>\n",
              "      <td>5292</td>\n",
              "      <td>7.5</td>\n",
              "      <td>2015</td>\n",
              "      <td>1.839999e+08</td>\n",
              "      <td>1.902723e+09</td>\n",
              "      <td>1.868178e+09</td>\n",
              "    </tr>\n",
              "    <tr>\n",
              "      <th>5231</th>\n",
              "      <td>4.355219</td>\n",
              "      <td>200000000.0</td>\n",
              "      <td>1845034188</td>\n",
              "      <td>Titanic</td>\n",
              "      <td>Kate Winslet|Leonardo DiCaprio|Frances Fisher|...</td>\n",
              "      <td>James Cameron</td>\n",
              "      <td>Nothing on Earth could come between them.</td>\n",
              "      <td>shipwreck|iceberg|ship|panic|titanic</td>\n",
              "      <td>194</td>\n",
              "      <td>Drama|Romance|Thriller</td>\n",
              "      <td>Paramount Pictures|Twentieth Century Fox Film ...</td>\n",
              "      <td>11/18/97</td>\n",
              "      <td>4654</td>\n",
              "      <td>7.3</td>\n",
              "      <td>1997</td>\n",
              "      <td>2.716921e+08</td>\n",
              "      <td>2.506406e+09</td>\n",
              "      <td>1.645034e+09</td>\n",
              "    </tr>\n",
              "    <tr>\n",
              "      <th>4361</th>\n",
              "      <td>7.637767</td>\n",
              "      <td>220000000.0</td>\n",
              "      <td>1519557910</td>\n",
              "      <td>The Avengers</td>\n",
              "      <td>Robert Downey Jr.|Chris Evans|Mark Ruffalo|Chr...</td>\n",
              "      <td>Joss Whedon</td>\n",
              "      <td>Some assembly required.</td>\n",
              "      <td>new york|shield|marvel comic|comic|superhero</td>\n",
              "      <td>143</td>\n",
              "      <td>Science Fiction|Action|Adventure</td>\n",
              "      <td>Marvel Studios</td>\n",
              "      <td>4/25/12</td>\n",
              "      <td>8903</td>\n",
              "      <td>7.3</td>\n",
              "      <td>2012</td>\n",
              "      <td>2.089437e+08</td>\n",
              "      <td>1.443191e+09</td>\n",
              "      <td>1.299558e+09</td>\n",
              "    </tr>\n",
              "    <tr>\n",
              "      <th>0</th>\n",
              "      <td>32.985763</td>\n",
              "      <td>150000000.0</td>\n",
              "      <td>1513528810</td>\n",
              "      <td>Jurassic World</td>\n",
              "      <td>Chris Pratt|Bryce Dallas Howard|Irrfan Khan|Vi...</td>\n",
              "      <td>Colin Trevorrow</td>\n",
              "      <td>The park is open.</td>\n",
              "      <td>monster|dna|tyrannosaurus rex|velociraptor|island</td>\n",
              "      <td>124</td>\n",
              "      <td>Action|Adventure|Science Fiction|Thriller</td>\n",
              "      <td>Universal Studios|Amblin Entertainment|Legenda...</td>\n",
              "      <td>6/9/15</td>\n",
              "      <td>5562</td>\n",
              "      <td>6.5</td>\n",
              "      <td>2015</td>\n",
              "      <td>1.379999e+08</td>\n",
              "      <td>1.392446e+09</td>\n",
              "      <td>1.363529e+09</td>\n",
              "    </tr>\n",
              "    <tr>\n",
              "      <th>4</th>\n",
              "      <td>9.335014</td>\n",
              "      <td>190000000.0</td>\n",
              "      <td>1506249360</td>\n",
              "      <td>Furious 7</td>\n",
              "      <td>Vin Diesel|Paul Walker|Jason Statham|Michelle ...</td>\n",
              "      <td>James Wan</td>\n",
              "      <td>Vengeance Hits Home</td>\n",
              "      <td>car race|speed|revenge|suspense|car</td>\n",
              "      <td>137</td>\n",
              "      <td>Action|Crime|Thriller</td>\n",
              "      <td>Universal Pictures|Original Film|Media Rights ...</td>\n",
              "      <td>4/1/15</td>\n",
              "      <td>2947</td>\n",
              "      <td>7.3</td>\n",
              "      <td>2015</td>\n",
              "      <td>1.747999e+08</td>\n",
              "      <td>1.385749e+09</td>\n",
              "      <td>1.316249e+09</td>\n",
              "    </tr>\n",
              "    <tr>\n",
              "      <th>14</th>\n",
              "      <td>5.944927</td>\n",
              "      <td>280000000.0</td>\n",
              "      <td>1405035767</td>\n",
              "      <td>Avengers: Age of Ultron</td>\n",
              "      <td>Robert Downey Jr.|Chris Hemsworth|Mark Ruffalo...</td>\n",
              "      <td>Joss Whedon</td>\n",
              "      <td>A New Age Has Come.</td>\n",
              "      <td>marvel comic|comic|sequel|superhero|vision</td>\n",
              "      <td>141</td>\n",
              "      <td>Action|Adventure|Science Fiction</td>\n",
              "      <td>Marvel Studios|Prime Focus|Revolution Sun Studios</td>\n",
              "      <td>4/22/15</td>\n",
              "      <td>4304</td>\n",
              "      <td>7.4</td>\n",
              "      <td>2015</td>\n",
              "      <td>2.575999e+08</td>\n",
              "      <td>1.292632e+09</td>\n",
              "      <td>1.125036e+09</td>\n",
              "    </tr>\n",
              "    <tr>\n",
              "      <th>3374</th>\n",
              "      <td>5.711315</td>\n",
              "      <td>125000000.0</td>\n",
              "      <td>1327817822</td>\n",
              "      <td>Harry Potter and the Deathly Hallows: Part 2</td>\n",
              "      <td>Daniel Radcliffe|Rupert Grint|Emma Watson|Alan...</td>\n",
              "      <td>David Yates</td>\n",
              "      <td>It all ends here.</td>\n",
              "      <td>self sacrifice|magic|frog|sorcerer|school</td>\n",
              "      <td>130</td>\n",
              "      <td>Adventure|Family|Fantasy</td>\n",
              "      <td>Warner Bros.|Heyday Films|Moving Picture Compa...</td>\n",
              "      <td>7/7/11</td>\n",
              "      <td>3750</td>\n",
              "      <td>7.7</td>\n",
              "      <td>2011</td>\n",
              "      <td>1.211748e+08</td>\n",
              "      <td>1.287184e+09</td>\n",
              "      <td>1.202818e+09</td>\n",
              "    </tr>\n",
              "    <tr>\n",
              "      <th>5422</th>\n",
              "      <td>6.112766</td>\n",
              "      <td>150000000.0</td>\n",
              "      <td>1274219009</td>\n",
              "      <td>Frozen</td>\n",
              "      <td>Kristen Bell|Idina Menzel|Jonathan Groff|Josh ...</td>\n",
              "      <td>Chris Buck|Jennifer Lee</td>\n",
              "      <td>Only the act of true love will thaw a frozen h...</td>\n",
              "      <td>queen|musical|princess|betrayal|snowman</td>\n",
              "      <td>102</td>\n",
              "      <td>Animation|Adventure|Family</td>\n",
              "      <td>Walt Disney Pictures|Walt Disney Animation Stu...</td>\n",
              "      <td>11/27/13</td>\n",
              "      <td>3369</td>\n",
              "      <td>7.5</td>\n",
              "      <td>2013</td>\n",
              "      <td>1.404050e+08</td>\n",
              "      <td>1.192711e+09</td>\n",
              "      <td>1.124219e+09</td>\n",
              "    </tr>\n",
              "    <tr>\n",
              "      <th>5425</th>\n",
              "      <td>4.946136</td>\n",
              "      <td>200000000.0</td>\n",
              "      <td>1215439994</td>\n",
              "      <td>Iron Man 3</td>\n",
              "      <td>Robert Downey Jr.|Gwyneth Paltrow|Guy Pearce|D...</td>\n",
              "      <td>Shane Black</td>\n",
              "      <td>Unleash the power behind the armor.</td>\n",
              "      <td>terrorist|war on terror|tennessee|malibu|marve...</td>\n",
              "      <td>130</td>\n",
              "      <td>Action|Adventure|Science Fiction</td>\n",
              "      <td>Marvel Studios</td>\n",
              "      <td>4/18/13</td>\n",
              "      <td>6882</td>\n",
              "      <td>6.9</td>\n",
              "      <td>2013</td>\n",
              "      <td>1.872067e+08</td>\n",
              "      <td>1.137692e+09</td>\n",
              "      <td>1.015440e+09</td>\n",
              "    </tr>\n",
              "  </tbody>\n",
              "</table>\n",
              "</div>"
            ],
            "text/plain": [
              "      popularity       budget  ...   revenue_adj        profit\n",
              "1386    9.432768  237000000.0  ...  2.827124e+09  2.544506e+09\n",
              "3      11.173104  200000000.0  ...  1.902723e+09  1.868178e+09\n",
              "5231    4.355219  200000000.0  ...  2.506406e+09  1.645034e+09\n",
              "4361    7.637767  220000000.0  ...  1.443191e+09  1.299558e+09\n",
              "0      32.985763  150000000.0  ...  1.392446e+09  1.363529e+09\n",
              "4       9.335014  190000000.0  ...  1.385749e+09  1.316249e+09\n",
              "14      5.944927  280000000.0  ...  1.292632e+09  1.125036e+09\n",
              "3374    5.711315  125000000.0  ...  1.287184e+09  1.202818e+09\n",
              "5422    6.112766  150000000.0  ...  1.192711e+09  1.124219e+09\n",
              "5425    4.946136  200000000.0  ...  1.137692e+09  1.015440e+09\n",
              "\n",
              "[10 rows x 18 columns]"
            ]
          },
          "metadata": {},
          "execution_count": 20
        }
      ]
    },
    {
      "cell_type": "markdown",
      "metadata": {
        "id": "zx9FFBBXe4BG"
      },
      "source": [
        "1. All of them have a rating of 6.5 and above\n",
        "2. Action is the most common genre\n",
        "3. All of them have a runtime of 102 and above"
      ]
    },
    {
      "cell_type": "markdown",
      "metadata": {
        "id": "uT6cBVNkD8Np"
      },
      "source": [
        "**Question 5:** Which genres are most popular from year to year?"
      ]
    },
    {
      "cell_type": "code",
      "metadata": {
        "id": "PBidMtmA3xlj",
        "colab": {
          "base_uri": "https://localhost:8080/"
        },
        "outputId": "046e2ff4-6ee3-4977-dcba-22f4a4f3e2d2"
      },
      "source": [
        "# Question 5\n",
        "# ---\n",
        "# Which genres are most popular from year to year?\n",
        "# ---\n",
        "#\n",
        "\n",
        "# YOUR CODE GOES BELOW HERE\n",
        "Most_popular_genres= df.groupby(['genres', 'release_year']).apply(lambda df: df.loc[df.runtime.idxmax()])\n",
        "Most_popular_genres['genres'].sort_index()\n",
        "#Action is the most popular genre year on year"
      ],
      "execution_count": null,
      "outputs": [
        {
          "output_type": "execute_result",
          "data": {
            "text/plain": [
              "genres   release_year\n",
              "Action   1976             Action\n",
              "         1982             Action\n",
              "         1985             Action\n",
              "         1986             Action\n",
              "         1988             Action\n",
              "                          ...   \n",
              "missing  2010            missing\n",
              "         2012            missing\n",
              "         2013            missing\n",
              "         2014            missing\n",
              "         2015            missing\n",
              "Name: genres, Length: 6114, dtype: object"
            ]
          },
          "metadata": {},
          "execution_count": 21
        }
      ]
    },
    {
      "cell_type": "code",
      "metadata": {
        "colab": {
          "base_uri": "https://localhost:8080/",
          "height": 621
        },
        "id": "8S-GisJ3qajT",
        "outputId": "563b023f-a2c7-4e20-bd56-bf29a342e2e8"
      },
      "source": [
        "#most_popular = movies_df4['popularity'].astype(float).round(0)\n",
        "popularity = Most_popular_genres['popularity'].astype(float).round(0)\n",
        "Year = Most_popular_genres['release_year']\n",
        "plt.figure(figsize=(15,10))\n",
        "plt.plot(Year, popularity, marker = \"*\")\n",
        "plt.title('Scatterplot of popularity by Year')\n",
        "plt.xlabel('Year')\n",
        "plt.ylabel('popularity')\n",
        "\n",
        "# Display\n",
        "plt.show()"
      ],
      "execution_count": null,
      "outputs": [
        {
          "output_type": "display_data",
          "data": {
            "image/png": "[encoded data removed]",
            "text/plain": [
              "<Figure size 1080x720 with 1 Axes>"
            ]
          },
          "metadata": {
            "needs_background": "light"
          }
        }
      ]
    },
    {
      "cell_type": "markdown",
      "metadata": {
        "id": "cpmGSOOqIMrt"
      },
      "source": [
        "### 5.b) Recommendations"
      ]
    },
    {
      "cell_type": "markdown",
      "metadata": {
        "id": "wDn2whdV0Zcg"
      },
      "source": [
        "From the above analysis, below are our recommendations:\n",
        "\n",
        "1. The higher the budget the higher the returns and popularity of a movie hence production companies should have a higher budget so as to produce quality movies that have high returns\n",
        "2. The length of the movie affects the vote count and popularity hence movies should be atleast 100 minutes and above\n",
        "3. Higher popularity does not always translate to higher profits hence the film company should not spend alot of resources in popularising movies"
      ]
    },
    {
      "cell_type": "markdown",
      "metadata": {
        "id": "noZz5YRQXKzi"
      },
      "source": [
        "## 6. Challenging your Solution"
      ]
    },
    {
      "cell_type": "markdown",
      "metadata": {
        "id": "8cBhICFk32nQ"
      },
      "source": [
        ""
      ]
    },
    {
      "cell_type": "markdown",
      "metadata": {
        "id": "xrmHVMVsVS--"
      },
      "source": [
        "## 7. Follow up questions"
      ]
    },
    {
      "cell_type": "markdown",
      "metadata": {
        "id": "pth2qSWhuBIy"
      },
      "source": [
        "During this step, you rethink and propose other ways that you can improve your solution."
      ]
    },
    {
      "cell_type": "markdown",
      "metadata": {
        "id": "HPQviDmNtta8"
      },
      "source": [
        "### a). Did we have the right data?"
      ]
    },
    {
      "cell_type": "markdown",
      "metadata": {
        "id": "lr3Juyef2Zbi"
      },
      "source": [
        "Yes"
      ]
    },
    {
      "cell_type": "markdown",
      "metadata": {
        "id": "qjFHK1CKty7o"
      },
      "source": [
        "### b). Do we need other data to answer our question?"
      ]
    },
    {
      "cell_type": "markdown",
      "metadata": {
        "id": "SyJMFjvmKePc"
      },
      "source": [
        "You can look into the questions you brainstormed that you weren't taken into account during analysis due to a lack of data. Were those questions important to have been left out  of your analysis?"
      ]
    },
    {
      "cell_type": "markdown",
      "metadata": {
        "id": "8ZXbFf4x2WNQ"
      },
      "source": [
        "No"
      ]
    },
    {
      "cell_type": "markdown",
      "metadata": {
        "id": "HSsicSdvt4Zs"
      },
      "source": [
        "### c). Did we have the right question?"
      ]
    },
    {
      "cell_type": "markdown",
      "metadata": {
        "id": "DvVFZGvNKfSv"
      },
      "source": [
        "Were there any other questions that we needed to have answered?"
      ]
    },
    {
      "cell_type": "markdown",
      "metadata": {
        "id": "xNhn3o452J6_"
      },
      "source": [
        "yes"
      ]
    }
  ]
}